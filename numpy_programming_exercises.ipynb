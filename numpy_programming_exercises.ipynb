{
 "cells": [
  {
   "cell_type": "markdown",
   "metadata": {},
   "source": [
    "# Some basic programming exercises on numpy"
   ]
  },
  {
   "cell_type": "code",
   "execution_count": 3,
   "metadata": {},
   "outputs": [],
   "source": [
    "import numpy as np"
   ]
  },
  {
   "cell_type": "markdown",
   "metadata": {},
   "source": [
    "#### 1. Create a vector 'int_vector' (1 dimensional array) filled with random 10 integer numbers"
   ]
  },
  {
   "cell_type": "code",
   "execution_count": 10,
   "metadata": {},
   "outputs": [
    {
     "name": "stdout",
     "output_type": "stream",
     "text": [
      "[9 6 2 4 3 8 1 6 6 4]\n"
     ]
    }
   ],
   "source": [
    "# code\n",
    "int_vector = np.random.randint(low=1, high=10, size=10)\n",
    "print(int_vector)"
   ]
  },
  {
   "cell_type": "markdown",
   "metadata": {},
   "source": [
    "#### 2. Create a vector 'rand_vector' filled with random 10 numbers between 0 and 1"
   ]
  },
  {
   "cell_type": "code",
   "execution_count": 13,
   "metadata": {},
   "outputs": [
    {
     "name": "stdout",
     "output_type": "stream",
     "text": [
      "[[ 0.88140871  0.61551008  0.38591032  0.07034841  0.92756227  0.00241562\n",
      "   0.51234978  0.54404636  0.08581267  0.03408931]]\n"
     ]
    }
   ],
   "source": [
    "# code\n",
    "rand_vector = np.random.rand(1,10)\n",
    "print(rand_vector)"
   ]
  },
  {
   "cell_type": "markdown",
   "metadata": {},
   "source": [
    "#### 3. Find the smallest and largest element in int_vector you created in step 1. \n",
    " * Do this with and without using the numpy in-built function. Print the result\n",
    " "
   ]
  },
  {
   "cell_type": "code",
   "execution_count": 24,
   "metadata": {},
   "outputs": [
    {
     "name": "stdout",
     "output_type": "stream",
     "text": [
      "1\n",
      "9\n",
      "(1, 9)\n"
     ]
    }
   ],
   "source": [
    "# code\n",
    "print(int_vector.min())   \n",
    "print(int_vector.max()) \n",
    "\n",
    "# not built in\n",
    "min =int_vector[0]\n",
    "max =int_vector[0];\n",
    "for i in int_vector:\n",
    "    val =int_vector[i]\n",
    "    if(val<min):\n",
    "        min =val\n",
    "    elif(i>max):\n",
    "        max=val\n",
    "print(min,max)"
   ]
  },
  {
   "cell_type": "markdown",
   "metadata": {},
   "source": [
    "#### 4. Create a vector 'vect1' with 9 elements equally spaced between 10 and 100  "
   ]
  },
  {
   "cell_type": "code",
   "execution_count": 26,
   "metadata": {},
   "outputs": [
    {
     "name": "stdout",
     "output_type": "stream",
     "text": [
      "[  10.     21.25   32.5    43.75   55.     66.25   77.5    88.75  100.  ]\n"
     ]
    }
   ],
   "source": [
    "# code\n",
    "vect1=np.linspace(10,100,9)\n",
    "print(vect1)"
   ]
  },
  {
   "cell_type": "markdown",
   "metadata": {
    "collapsed": true
   },
   "source": [
    "#### 5. Create a 4x4 matrix 'mat1' that has 1 in its diagonal entry and 0 else where."
   ]
  },
  {
   "cell_type": "code",
   "execution_count": 29,
   "metadata": {},
   "outputs": [
    {
     "name": "stdout",
     "output_type": "stream",
     "text": [
      "[[ 1.  0.  0.  0.]\n",
      " [ 0.  1.  0.  0.]\n",
      " [ 0.  0.  1.  0.]\n",
      " [ 0.  0.  0.  1.]]\n"
     ]
    }
   ],
   "source": [
    "mat1=np.eye(4)\n",
    "print mat1"
   ]
  },
  {
   "cell_type": "markdown",
   "metadata": {
    "collapsed": true
   },
   "source": [
    "#### 6. Create a 5x5 matrix 'mat2' that is populated with random numbers between 0 and 1"
   ]
  },
  {
   "cell_type": "code",
   "execution_count": 32,
   "metadata": {},
   "outputs": [
    {
     "name": "stdout",
     "output_type": "stream",
     "text": [
      "[[ 0.96197225  0.03388988  0.31036285  0.2604476   0.51896165]\n",
      " [ 0.52974071  0.2219376   0.23856529  0.79842931  0.36466076]\n",
      " [ 0.49238161  0.62643788  0.09835795  0.88602962  0.17545385]\n",
      " [ 0.60590267  0.42889239  0.73687399  0.4603339   0.37332588]\n",
      " [ 0.85708961  0.19082428  0.78673009  0.8872369   0.33762689]]\n"
     ]
    }
   ],
   "source": [
    "mat2 = np.random.random((5,5))\n",
    "print(mat2)"
   ]
  },
  {
   "cell_type": "markdown",
   "metadata": {},
   "source": [
    "#### 7. Save the contents of 'mat2' to a csv file called 'mat2.csv'. \n",
    " * Make sure you preserve 6 values after the decimal point.\n",
    " * Next read the contents of the csv file 'mat2.csv' and print its contents on screen"
   ]
  },
  {
   "cell_type": "code",
   "execution_count": 36,
   "metadata": {},
   "outputs": [],
   "source": [
    "# save with 6 point precision \n",
    "\n",
    "np.savetxt('mat2.csv', mat2, delimiter=',', fmt='%.6f')"
   ]
  },
  {
   "cell_type": "code",
   "execution_count": 42,
   "metadata": {},
   "outputs": [],
   "source": [
    "# read the contents of csv into mat2_data \n",
    "mat2_data  = np.genfromtxt('mat2.csv',delimiter=',')"
   ]
  },
  {
   "cell_type": "code",
   "execution_count": 43,
   "metadata": {},
   "outputs": [
    {
     "name": "stdout",
     "output_type": "stream",
     "text": [
      "[[ 0.961972  0.03389   0.310363  0.260448  0.518962]\n",
      " [ 0.529741  0.221938  0.238565  0.798429  0.364661]\n",
      " [ 0.492382  0.626438  0.098358  0.88603   0.175454]\n",
      " [ 0.605903  0.428892  0.736874  0.460334  0.373326]\n",
      " [ 0.85709   0.190824  0.78673   0.887237  0.337627]]\n"
     ]
    }
   ],
   "source": [
    "# print the contents. Each item has only 6 values after the decimal point\n",
    "print(mat2_data )"
   ]
  },
  {
   "cell_type": "markdown",
   "metadata": {},
   "source": [
    "#### 8. Define a function 'operation' that takes three input arguments: data1, data2 and operationType\n",
    " * Data1 and data2 can be a scalar, vector or matrix.\n",
    " * operationType is a string variable that takes one of the following 4 values and performs element-wise operation for\n",
    "   * add, subtract, multiply, divide\n",
    " * The function must return the result of the operation to the caller\n",
    "   \n"
   ]
  },
  {
   "cell_type": "code",
   "execution_count": 49,
   "metadata": {},
   "outputs": [],
   "source": [
    "def operation(data1, data2, operationType):\n",
    "    \"\"\"Data1 and data2 can be a scalar, vector or matrix.\\\n",
    "    operationType is a string variable that takes one of the following 4 values \\\n",
    "    and performs element-wise operation for\n",
    "    add, subtract, multiply, divide\"\"\"\n",
    "    if(operationType =='add'):\n",
    "        result = data1+data2\n",
    "    elif(operationType =='subtract'):\n",
    "         result = data1-data2\n",
    "    elif(operationType==\"multiply\"):\n",
    "        result = data1*data2\n",
    "    elif(operationType==\"divide\"):\n",
    "        result = data1/data2\n",
    "    else:\n",
    "        return \n",
    "    return result"
   ]
  },
  {
   "cell_type": "markdown",
   "metadata": {},
   "source": [
    "#### 9. Test the function 'operation' for different operations (say, add, multiply) on following inputs \n",
    " * a)  A 4 element random vector 'rand_v' and the matrix mat1 that was created earlier. Function call will be: operation(rand_v, mat1, 'add') and operation(rand_v, mat1, 'multiply').\n",
    " * b) When you call the function as: operation(mat1, mat2, 'add'), where mat1 and mat2 are matrices created earlier. What output do you get ? \n",
    " \n",
    " Observe the results obtained. Illustration of broadcasting. "
   ]
  },
  {
   "cell_type": "code",
   "execution_count": 54,
   "metadata": {},
   "outputs": [
    {
     "name": "stdout",
     "output_type": "stream",
     "text": [
      "[[ 1.49265202  0.40324568  0.09499017  0.28215789]\n",
      " [ 0.49265202  1.40324568  0.09499017  0.28215789]\n",
      " [ 0.49265202  0.40324568  1.09499017  0.28215789]\n",
      " [ 0.49265202  0.40324568  0.09499017  1.28215789]]\n",
      "[[ 0.49265202  0.          0.          0.        ]\n",
      " [ 0.          0.40324568  0.          0.        ]\n",
      " [ 0.          0.          0.09499017  0.        ]\n",
      " [ 0.          0.          0.          0.28215789]]\n"
     ]
    }
   ],
   "source": [
    "# code for a)\n",
    "rand_v = np.random.random((4))\n",
    "a=operation(rand_v, mat1, 'add')\n",
    "print a\n",
    "a=operation(rand_v, mat1, 'multiply')\n",
    "print a"
   ]
  },
  {
   "cell_type": "code",
   "execution_count": 58,
   "metadata": {},
   "outputs": [
    {
     "name": "stdout",
     "output_type": "stream",
     "text": [
      "[0 1 2 3 4]\n",
      "[[ 0.96197225  1.03388988  2.31036285  3.2604476   4.51896165]\n",
      " [ 0.52974071  1.2219376   2.23856529  3.79842931  4.36466076]\n",
      " [ 0.49238161  1.62643788  2.09835795  3.88602962  4.17545385]\n",
      " [ 0.60590267  1.42889239  2.73687399  3.4603339   4.37332588]\n",
      " [ 0.85708961  1.19082428  2.78673009  3.8872369   4.33762689]]\n"
     ]
    }
   ],
   "source": [
    "# code for b)\n",
    "mat1 = np.arange(0,5)\n",
    "print(mat1)\n",
    "b=operation(mat1, mat2, 'add')\n",
    "print b"
   ]
  },
  {
   "cell_type": "markdown",
   "metadata": {},
   "source": [
    "#### 10. Create a numpy vector comprising of 25 elements randomly drawn from a standard normal distribution. \n",
    " * Next, convert this to a two dimensional 5 x 5 matrix called 'mat5x5' and print the matrix. \n"
   ]
  },
  {
   "cell_type": "code",
   "execution_count": 61,
   "metadata": {},
   "outputs": [],
   "source": [
    "mat5x5=np.random.standard_normal((5,5))"
   ]
  },
  {
   "cell_type": "code",
   "execution_count": 62,
   "metadata": {},
   "outputs": [
    {
     "name": "stdout",
     "output_type": "stream",
     "text": [
      "[[-0.8846332  -0.35896814 -0.84966994 -1.16757863  0.16881738]\n",
      " [ 0.51735217 -0.06878542 -1.12455174  0.03017642  1.74426364]\n",
      " [ 0.45458539  0.80871514  2.16452482 -0.79904598  0.32560954]\n",
      " [ 0.05278067 -0.42542203 -1.01686967 -1.72115107 -1.20372828]\n",
      " [ 0.3590576  -1.69706858 -0.06598282  0.5417536  -1.04710205]]\n"
     ]
    }
   ],
   "source": [
    "print(mat5x5)"
   ]
  },
  {
   "cell_type": "markdown",
   "metadata": {},
   "source": [
    "#### 11. Save the three matrices mat1, mat2 and mat5x5 as a compressed numpy binary file 'compressed_matrix'\n",
    " * Next also read the file 'compressed_matrix' to access individual matrix and print them.\n",
    " "
   ]
  },
  {
   "cell_type": "code",
   "execution_count": 77,
   "metadata": {},
   "outputs": [],
   "source": [
    "# save matrices in compressed form\n",
    "# temp=np.append(mat1,mat2, axis=0)\n",
    "# temp=np.append(temp,mat5x5, axis=0)\n",
    "compressed_matrix=np.savez_compressed('compressed_matrix', mat1=mat1,mat2=mat2,mat5x5=mat5x5)   "
   ]
  },
  {
   "cell_type": "code",
   "execution_count": 83,
   "metadata": {},
   "outputs": [
    {
     "name": "stdout",
     "output_type": "stream",
     "text": [
      "['mat5x5', 'mat2', 'mat1']\n"
     ]
    },
    {
     "data": {
      "text/plain": [
       "array([0, 1, 2, 3, 4])"
      ]
     },
     "execution_count": 83,
     "metadata": {},
     "output_type": "execute_result"
    }
   ],
   "source": [
    "# read and print the compressed matrix\n",
    "load_compressed = np.load('compressed_matrix.npz')\n",
    "print(load_compressed.files)\n",
    "load_compressed['mat1']"
   ]
  },
  {
   "cell_type": "markdown",
   "metadata": {},
   "source": [
    "#### 11. Compute the following statistics for the matrix mat5x5\n",
    " * a) Global mean and mean across each dimension\n",
    " * b) Global variance and variance across each dimension\n",
    " "
   ]
  },
  {
   "cell_type": "code",
   "execution_count": 80,
   "metadata": {},
   "outputs": [
    {
     "data": {
      "text/plain": [
       "-0.210516847382928"
      ]
     },
     "execution_count": 80,
     "metadata": {},
     "output_type": "execute_result"
    }
   ],
   "source": [
    "# code for a)\n",
    "mat5x5.mean()"
   ]
  },
  {
   "cell_type": "code",
   "execution_count": 84,
   "metadata": {},
   "outputs": [
    {
     "data": {
      "text/plain": [
       "0.95541052790072079"
      ]
     },
     "execution_count": 84,
     "metadata": {},
     "output_type": "execute_result"
    }
   ],
   "source": [
    "# code for b)\n",
    "mat5x5.mean()\n",
    "mat5x5.std()"
   ]
  },
  {
   "cell_type": "markdown",
   "metadata": {},
   "source": [
    "#### 12. Matrix multiplication \n",
    "\n",
    "In order to multiply two matrices, A and B, the number of columns in A must equal the number of rows in B. Thus, if A is an m x n matrix and B is an r x s matrix, n = r.\n",
    "\n",
    " * Given A = 3x3 and B = 3x4 matrices both filled with random numbers. \n",
    " * Write a function 'matrix_multiply' that takes A and B as input and perform multiplication without using numpy in-built function 'dot'. Print the result.\n",
    " * Test whether your matrix multiplication code worked correctly by comparing the output you get using the inbuilt np.dot() function.\n",
    " \n",
    "#### Hint: \n",
    "You will need to use two for loops. First loop controls the row dimension and the innermost control how many items need to be traversed in each row. \n"
   ]
  },
  {
   "cell_type": "code",
   "execution_count": 106,
   "metadata": {},
   "outputs": [
    {
     "name": "stdout",
     "output_type": "stream",
     "text": [
      "[[ 0.90157625  0.71846465  0.80508424]\n",
      " [ 0.08527748  0.14397961  0.59589446]\n",
      " [ 0.51877632  0.90884106  0.74990486]]\n",
      "[[ 0.41421521  0.74256965  0.20389288  0.33512239]\n",
      " [ 0.39670092  0.9594118   0.85083555  0.16168031]\n",
      " [ 0.62161666  0.67408124  0.18648462  0.52923978]]\n"
     ]
    }
   ],
   "source": [
    "# Code for the function\n",
    "A=np.random.rand(3,3)\n",
    "B=np.random.rand(3,4)\n",
    "print A\n",
    "print B"
   ]
  },
  {
   "cell_type": "code",
   "execution_count": 107,
   "metadata": {},
   "outputs": [],
   "source": [
    "def matrix_multiply(A,B):\n",
    "    C=np.zeros((3,4),  dtype=float)\n",
    "    for i in len(A):\n",
    "        for j in len(B.T):\n",
    "            C[i,j]=A[i]*B[j]\n",
    "    return C"
   ]
  },
  {
   "cell_type": "code",
   "execution_count": 108,
   "metadata": {},
   "outputs": [
    {
     "ename": "TypeError",
     "evalue": "'int' object is not iterable",
     "output_type": "error",
     "traceback": [
      "\u001b[0;31m---------------------------------------------------------------------------\u001b[0m",
      "\u001b[0;31mTypeError\u001b[0m                                 Traceback (most recent call last)",
      "\u001b[0;32m<ipython-input-108-cbdf259a1af9>\u001b[0m in \u001b[0;36m<module>\u001b[0;34m()\u001b[0m\n\u001b[0;32m----> 1\u001b[0;31m \u001b[0;32mprint\u001b[0m \u001b[0mmatrix_multiply\u001b[0m\u001b[0;34m(\u001b[0m\u001b[0mA\u001b[0m\u001b[0;34m,\u001b[0m\u001b[0mB\u001b[0m\u001b[0;34m)\u001b[0m\u001b[0;34m\u001b[0m\u001b[0m\n\u001b[0m\u001b[1;32m      2\u001b[0m \u001b[0;31m# print(np.dot(A, B.T) ,matrix_multiply(A,B))\u001b[0m\u001b[0;34m\u001b[0m\u001b[0;34m\u001b[0m\u001b[0m\n",
      "\u001b[0;32m<ipython-input-107-389563ba1556>\u001b[0m in \u001b[0;36mmatrix_multiply\u001b[0;34m(A, B)\u001b[0m\n\u001b[1;32m      1\u001b[0m \u001b[0;32mdef\u001b[0m \u001b[0mmatrix_multiply\u001b[0m\u001b[0;34m(\u001b[0m\u001b[0mA\u001b[0m\u001b[0;34m,\u001b[0m\u001b[0mB\u001b[0m\u001b[0;34m)\u001b[0m\u001b[0;34m:\u001b[0m\u001b[0;34m\u001b[0m\u001b[0m\n\u001b[1;32m      2\u001b[0m     \u001b[0mC\u001b[0m\u001b[0;34m=\u001b[0m\u001b[0mnp\u001b[0m\u001b[0;34m.\u001b[0m\u001b[0mzeros\u001b[0m\u001b[0;34m(\u001b[0m\u001b[0;34m(\u001b[0m\u001b[0;36m3\u001b[0m\u001b[0;34m,\u001b[0m\u001b[0;36m4\u001b[0m\u001b[0;34m)\u001b[0m\u001b[0;34m,\u001b[0m  \u001b[0mdtype\u001b[0m\u001b[0;34m=\u001b[0m\u001b[0mfloat\u001b[0m\u001b[0;34m)\u001b[0m\u001b[0;34m\u001b[0m\u001b[0m\n\u001b[0;32m----> 3\u001b[0;31m     \u001b[0;32mfor\u001b[0m \u001b[0mi\u001b[0m \u001b[0;32min\u001b[0m \u001b[0mlen\u001b[0m\u001b[0;34m(\u001b[0m\u001b[0mA\u001b[0m\u001b[0;34m)\u001b[0m\u001b[0;34m:\u001b[0m\u001b[0;34m\u001b[0m\u001b[0m\n\u001b[0m\u001b[1;32m      4\u001b[0m         \u001b[0;32mfor\u001b[0m \u001b[0mj\u001b[0m \u001b[0;32min\u001b[0m \u001b[0mlen\u001b[0m\u001b[0;34m(\u001b[0m\u001b[0mB\u001b[0m\u001b[0;34m.\u001b[0m\u001b[0mT\u001b[0m\u001b[0;34m)\u001b[0m\u001b[0;34m:\u001b[0m\u001b[0;34m\u001b[0m\u001b[0m\n\u001b[1;32m      5\u001b[0m             \u001b[0mC\u001b[0m\u001b[0;34m[\u001b[0m\u001b[0mi\u001b[0m\u001b[0;34m,\u001b[0m\u001b[0mj\u001b[0m\u001b[0;34m]\u001b[0m\u001b[0;34m=\u001b[0m\u001b[0mA\u001b[0m\u001b[0;34m[\u001b[0m\u001b[0mi\u001b[0m\u001b[0;34m]\u001b[0m\u001b[0;34m*\u001b[0m\u001b[0mB\u001b[0m\u001b[0;34m[\u001b[0m\u001b[0mj\u001b[0m\u001b[0;34m]\u001b[0m\u001b[0;34m\u001b[0m\u001b[0m\n",
      "\u001b[0;31mTypeError\u001b[0m: 'int' object is not iterable"
     ]
    }
   ],
   "source": [
    "print matrix_multiply(A,B)\n",
    "# print(np.dot(A, B.T) ,matrix_multiply(A,B))"
   ]
  },
  {
   "cell_type": "code",
   "execution_count": null,
   "metadata": {},
   "outputs": [],
   "source": []
  }
 ],
 "metadata": {
  "kernelspec": {
   "display_name": "Python 2",
   "language": "python",
   "name": "python2"
  },
  "language_info": {
   "codemirror_mode": {
    "name": "ipython",
    "version": 2
   },
   "file_extension": ".py",
   "mimetype": "text/x-python",
   "name": "python",
   "nbconvert_exporter": "python",
   "pygments_lexer": "ipython2",
   "version": "2.7.5"
  }
 },
 "nbformat": 4,
 "nbformat_minor": 2
}
